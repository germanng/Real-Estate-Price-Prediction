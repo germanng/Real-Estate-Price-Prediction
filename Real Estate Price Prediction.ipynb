{
 "cells": [
  {
   "cell_type": "markdown",
   "id": "93d0f4ae-6664-4be3-8f23-0b813286cc71",
   "metadata": {},
   "source": [
    "## The Goal of the Project"
   ]
  },
  {
   "cell_type": "markdown",
   "id": "0e0fc89e-7b75-49f8-8a92-fa298125bea8",
   "metadata": {},
   "source": [
    "This project focuses on predicting the prices of real estate based on various features such as the number of bathrooms, the location of the property, the total square meter area, the number of balconies, the number of bedrooms etc. By analyzing and processing the dataset of real estate postings, I was able to engineer features and train a machine learning model to predict prices with high accuracy.\n",
    "\n",
    "I started by performing exploratory data analysis to understand the distribution of each feature and identify any potential outliers or missing values. I then used various techniques such as feature scaling and one-hot encoding to prepare the data for machine learning algorithms.\n",
    "\n",
    "Next, I trained a linear regression model on the preprocessed data and evaluated its performance using metrics such as and R-squared. I also utilized cross-validation to ensure that the model's performance was consistent across different subsets of the data.\n",
    "\n",
    "Finally, I created a function to predict real estate prices based on user input for various features such as availability, bath, balcony, bedroom_num, total_m2 and location.\n",
    "\n",
    "Overall, this project demonstrates the application of machine learning techniques for real estate price prediction and highlights the importance of data preprocessing, feature engineering, and model selection for accurate and reliable predictions."
   ]
  },
  {
   "cell_type": "markdown",
   "id": "2d89426b-98e8-4726-80d1-aeb617d63cca",
   "metadata": {},
   "source": [
    "## Import the Libraries"
   ]
  },
  {
   "cell_type": "code",
   "execution_count": 132,
   "id": "0b0aa92f-de6a-44f9-bc9d-3a508ce684d5",
   "metadata": {},
   "outputs": [],
   "source": [
    "import numpy as np\n",
    "import pandas as pd\n",
    "from matplotlib import pyplot as plt\n",
    "%matplotlib inline"
   ]
  },
  {
   "cell_type": "code",
   "execution_count": 133,
   "id": "cca8e91c-66d3-48e2-9273-0a8f45532dec",
   "metadata": {},
   "outputs": [],
   "source": [
    "data = pd.read_csv(\"./data/data.csv\") # load the data"
   ]
  },
  {
   "cell_type": "markdown",
   "id": "44794e7f-c53d-49db-9aa1-cbde4fd4263c",
   "metadata": {},
   "source": [
    "## Data Cleaning"
   ]
  },
  {
   "cell_type": "code",
   "execution_count": 134,
   "id": "61af2ef4-fca1-4d61-a82c-09221e24dbb9",
   "metadata": {},
   "outputs": [],
   "source": [
    "data[\"price_eur\"] = data[\"price\"]*0.011 # in order to represent the value in EUR and\n",
    "data[\"bedroom_num\"] = data[\"size\"].str.extract('(\\d+)').astype(float) # extract only numbers of bedrooms with help of a regular expression\n",
    "data = data.drop([\"price\", \"society\", \"area_type\", \"size\"], axis=1) # we delete the columns which we don't need\n",
    "df1 = data\n",
    "\n",
    "\n",
    "\n"
   ]
  },
  {
   "cell_type": "markdown",
   "id": "b35eafce-2c5e-45eb-8422-cbc462857c16",
   "metadata": {},
   "source": [
    "***First we will try to handle the missing values by mean imputation***"
   ]
  },
  {
   "cell_type": "code",
   "execution_count": 135,
   "id": "8ea1c0c2-6b8a-4785-a213-c7e5bcf443a9",
   "metadata": {},
   "outputs": [
    {
     "data": {
      "text/html": [
       "<div>\n",
       "<style scoped>\n",
       "    .dataframe tbody tr th:only-of-type {\n",
       "        vertical-align: middle;\n",
       "    }\n",
       "\n",
       "    .dataframe tbody tr th {\n",
       "        vertical-align: top;\n",
       "    }\n",
       "\n",
       "    .dataframe thead th {\n",
       "        text-align: right;\n",
       "    }\n",
       "</style>\n",
       "<table border=\"1\" class=\"dataframe\">\n",
       "  <thead>\n",
       "    <tr style=\"text-align: right;\">\n",
       "      <th></th>\n",
       "      <th>availability</th>\n",
       "      <th>location</th>\n",
       "      <th>total_sqft</th>\n",
       "      <th>bath</th>\n",
       "      <th>balcony</th>\n",
       "      <th>price_eur</th>\n",
       "      <th>bedroom_num</th>\n",
       "    </tr>\n",
       "  </thead>\n",
       "  <tbody>\n",
       "    <tr>\n",
       "      <th>0</th>\n",
       "      <td>19-Dec</td>\n",
       "      <td>Electronic City Phase II</td>\n",
       "      <td>1056</td>\n",
       "      <td>2.0</td>\n",
       "      <td>1.000000</td>\n",
       "      <td>0.42977</td>\n",
       "      <td>2.0</td>\n",
       "    </tr>\n",
       "    <tr>\n",
       "      <th>1</th>\n",
       "      <td>Ready To Move</td>\n",
       "      <td>Chikka Tirupathi</td>\n",
       "      <td>2600</td>\n",
       "      <td>5.0</td>\n",
       "      <td>3.000000</td>\n",
       "      <td>1.32000</td>\n",
       "      <td>4.0</td>\n",
       "    </tr>\n",
       "    <tr>\n",
       "      <th>2</th>\n",
       "      <td>Ready To Move</td>\n",
       "      <td>Uttarahalli</td>\n",
       "      <td>1440</td>\n",
       "      <td>2.0</td>\n",
       "      <td>3.000000</td>\n",
       "      <td>0.68200</td>\n",
       "      <td>3.0</td>\n",
       "    </tr>\n",
       "    <tr>\n",
       "      <th>3</th>\n",
       "      <td>Ready To Move</td>\n",
       "      <td>Lingadheeranahalli</td>\n",
       "      <td>1521</td>\n",
       "      <td>3.0</td>\n",
       "      <td>1.000000</td>\n",
       "      <td>1.04500</td>\n",
       "      <td>3.0</td>\n",
       "    </tr>\n",
       "    <tr>\n",
       "      <th>4</th>\n",
       "      <td>Ready To Move</td>\n",
       "      <td>Kothanur</td>\n",
       "      <td>1200</td>\n",
       "      <td>2.0</td>\n",
       "      <td>1.000000</td>\n",
       "      <td>0.56100</td>\n",
       "      <td>2.0</td>\n",
       "    </tr>\n",
       "    <tr>\n",
       "      <th>...</th>\n",
       "      <td>...</td>\n",
       "      <td>...</td>\n",
       "      <td>...</td>\n",
       "      <td>...</td>\n",
       "      <td>...</td>\n",
       "      <td>...</td>\n",
       "      <td>...</td>\n",
       "    </tr>\n",
       "    <tr>\n",
       "      <th>13315</th>\n",
       "      <td>Ready To Move</td>\n",
       "      <td>Whitefield</td>\n",
       "      <td>3453</td>\n",
       "      <td>4.0</td>\n",
       "      <td>0.000000</td>\n",
       "      <td>2.54100</td>\n",
       "      <td>5.0</td>\n",
       "    </tr>\n",
       "    <tr>\n",
       "      <th>13316</th>\n",
       "      <td>Ready To Move</td>\n",
       "      <td>Richards Town</td>\n",
       "      <td>3600</td>\n",
       "      <td>5.0</td>\n",
       "      <td>1.584376</td>\n",
       "      <td>4.40000</td>\n",
       "      <td>4.0</td>\n",
       "    </tr>\n",
       "    <tr>\n",
       "      <th>13317</th>\n",
       "      <td>Ready To Move</td>\n",
       "      <td>Raja Rajeshwari Nagar</td>\n",
       "      <td>1141</td>\n",
       "      <td>2.0</td>\n",
       "      <td>1.000000</td>\n",
       "      <td>0.66000</td>\n",
       "      <td>2.0</td>\n",
       "    </tr>\n",
       "    <tr>\n",
       "      <th>13318</th>\n",
       "      <td>18-Jun</td>\n",
       "      <td>Padmanabhanagar</td>\n",
       "      <td>4689</td>\n",
       "      <td>4.0</td>\n",
       "      <td>1.000000</td>\n",
       "      <td>5.36800</td>\n",
       "      <td>4.0</td>\n",
       "    </tr>\n",
       "    <tr>\n",
       "      <th>13319</th>\n",
       "      <td>Ready To Move</td>\n",
       "      <td>Doddathoguru</td>\n",
       "      <td>550</td>\n",
       "      <td>1.0</td>\n",
       "      <td>1.000000</td>\n",
       "      <td>0.18700</td>\n",
       "      <td>1.0</td>\n",
       "    </tr>\n",
       "  </tbody>\n",
       "</table>\n",
       "<p>13319 rows × 7 columns</p>\n",
       "</div>"
      ],
      "text/plain": [
       "        availability                  location total_sqft  bath   balcony  \\\n",
       "0             19-Dec  Electronic City Phase II       1056   2.0  1.000000   \n",
       "1      Ready To Move          Chikka Tirupathi       2600   5.0  3.000000   \n",
       "2      Ready To Move               Uttarahalli       1440   2.0  3.000000   \n",
       "3      Ready To Move        Lingadheeranahalli       1521   3.0  1.000000   \n",
       "4      Ready To Move                  Kothanur       1200   2.0  1.000000   \n",
       "...              ...                       ...        ...   ...       ...   \n",
       "13315  Ready To Move                Whitefield       3453   4.0  0.000000   \n",
       "13316  Ready To Move             Richards Town       3600   5.0  1.584376   \n",
       "13317  Ready To Move     Raja Rajeshwari Nagar       1141   2.0  1.000000   \n",
       "13318         18-Jun           Padmanabhanagar       4689   4.0  1.000000   \n",
       "13319  Ready To Move              Doddathoguru        550   1.0  1.000000   \n",
       "\n",
       "       price_eur  bedroom_num  \n",
       "0        0.42977          2.0  \n",
       "1        1.32000          4.0  \n",
       "2        0.68200          3.0  \n",
       "3        1.04500          3.0  \n",
       "4        0.56100          2.0  \n",
       "...          ...          ...  \n",
       "13315    2.54100          5.0  \n",
       "13316    4.40000          4.0  \n",
       "13317    0.66000          2.0  \n",
       "13318    5.36800          4.0  \n",
       "13319    0.18700          1.0  \n",
       "\n",
       "[13319 rows x 7 columns]"
      ]
     },
     "execution_count": 135,
     "metadata": {},
     "output_type": "execute_result"
    }
   ],
   "source": [
    "df1.isnull().sum()\n",
    "balcony_mean = df1[\"balcony\"].mean() # we take a mean of balcony column\n",
    "bath_mean = df1[\"bath\"].mean() # we take a mean of bath column\n",
    "bedroom_num_mean = df1[\"bedroom_num\"].mean() # we take a mean of bedroom column\n",
    "df1[\"balcony\"] = df1[\"balcony\"].fillna(balcony_mean) # we apply the mean to fill the missing values\n",
    "df1[\"bath\"] = df1[\"bath\"].fillna(bath_mean) # we apply the mean to fill the missing values\n",
    "df1[\"bedroom_num\"] = df1[\"bedroom_num\"].fillna(bedroom_num_mean) # we apply the mean to fill the missing values\n",
    "df1 = df1.dropna() # we delete the rest of the raws which contain missing values\n",
    "df1.isnull().sum() # we check if there is more missing values\n",
    "df1"
   ]
  },
  {
   "cell_type": "code",
   "execution_count": 136,
   "id": "524745c4-6e57-4049-a0f3-82b84b171048",
   "metadata": {},
   "outputs": [],
   "source": [
    "def convertstr(x): # this function will go through the column and try to convert the values to floats\n",
    "    try:           # since some values have the following format (1023 - 1232), the following function is applied\n",
    "        return float(x)\n",
    "    except:\n",
    "        try:\n",
    "            return (float(x.split(\" - \")[0]) + float(x.split(\" - \")[1])) / 2\n",
    "        except:\n",
    "            return np.nan"
   ]
  },
  {
   "cell_type": "code",
   "execution_count": 137,
   "id": "4680b0e8-e9b3-461b-9d2a-e7b35c14d2a8",
   "metadata": {},
   "outputs": [
    {
     "name": "stderr",
     "output_type": "stream",
     "text": [
      "/var/folders/pk/bg9zd87j5w10vzj3kf03_jy40000gn/T/ipykernel_40487/3898913278.py:1: SettingWithCopyWarning: \n",
      "A value is trying to be set on a copy of a slice from a DataFrame.\n",
      "Try using .loc[row_indexer,col_indexer] = value instead\n",
      "\n",
      "See the caveats in the documentation: https://pandas.pydata.org/pandas-docs/stable/user_guide/indexing.html#returning-a-view-versus-a-copy\n",
      "  df1.loc[:, \"total_sqft\"] = df1[\"total_sqft\"].apply(convertstr).copy() # we apply the function\n"
     ]
    }
   ],
   "source": [
    "df1.loc[:, \"total_sqft\"] = df1[\"total_sqft\"].apply(convertstr).copy() # we apply the function\n",
    "df1 = df1.dropna() # and we drop again the null values since we generated some more of them through the function\n"
   ]
  },
  {
   "cell_type": "markdown",
   "id": "e4af8f53-3a72-4f21-bc3f-7f7f0ad9bd94",
   "metadata": {},
   "source": [
    "## Feature Engineering"
   ]
  },
  {
   "cell_type": "code",
   "execution_count": 138,
   "id": "7948f515-5ce5-4bae-8306-4fea398d31fd",
   "metadata": {},
   "outputs": [
    {
     "name": "stderr",
     "output_type": "stream",
     "text": [
      "/var/folders/pk/bg9zd87j5w10vzj3kf03_jy40000gn/T/ipykernel_40487/3114908147.py:1: SettingWithCopyWarning: \n",
      "A value is trying to be set on a copy of a slice from a DataFrame.\n",
      "Try using .loc[row_indexer,col_indexer] = value instead\n",
      "\n",
      "See the caveats in the documentation: https://pandas.pydata.org/pandas-docs/stable/user_guide/indexing.html#returning-a-view-versus-a-copy\n",
      "  df1.loc[:, \"availability\"] = df1[\"availability\"].apply(lambda x: 1 if x==\"Ready To Move\" else 0) # we transform the values to 1 or 0\n"
     ]
    }
   ],
   "source": [
    "df1.loc[:, \"availability\"] = df1[\"availability\"].apply(lambda x: 1 if x==\"Ready To Move\" else 0) # we transform the values to 1 or 0\n"
   ]
  },
  {
   "cell_type": "markdown",
   "id": "5465ef55-f47c-4e59-b350-c6cf7e6953ba",
   "metadata": {},
   "source": [
    "***Now I want to handle our categorical column which is called \"location\"***"
   ]
  },
  {
   "cell_type": "code",
   "execution_count": 139,
   "id": "f32aadca-8634-4615-b68a-356290fcadff",
   "metadata": {},
   "outputs": [
    {
     "name": "stderr",
     "output_type": "stream",
     "text": [
      "/var/folders/pk/bg9zd87j5w10vzj3kf03_jy40000gn/T/ipykernel_40487/975822083.py:1: SettingWithCopyWarning: \n",
      "A value is trying to be set on a copy of a slice from a DataFrame.\n",
      "Try using .loc[row_indexer,col_indexer] = value instead\n",
      "\n",
      "See the caveats in the documentation: https://pandas.pydata.org/pandas-docs/stable/user_guide/indexing.html#returning-a-view-versus-a-copy\n",
      "  df1[\"location\"] = df1[\"location\"].apply(lambda x: x.strip()) # we remove white spaces from beginnings and ends of locations\n",
      "/var/folders/pk/bg9zd87j5w10vzj3kf03_jy40000gn/T/ipykernel_40487/975822083.py:4: SettingWithCopyWarning: \n",
      "A value is trying to be set on a copy of a slice from a DataFrame.\n",
      "Try using .loc[row_indexer,col_indexer] = value instead\n",
      "\n",
      "See the caveats in the documentation: https://pandas.pydata.org/pandas-docs/stable/user_guide/indexing.html#returning-a-view-versus-a-copy\n",
      "  df1[\"location\"] = df1[\"location\"].apply(lambda x: \"other\" if x in location_less50 else x)\n",
      "/var/folders/pk/bg9zd87j5w10vzj3kf03_jy40000gn/T/ipykernel_40487/975822083.py:5: SettingWithCopyWarning: \n",
      "A value is trying to be set on a copy of a slice from a DataFrame.\n",
      "Try using .loc[row_indexer,col_indexer] = value instead\n",
      "\n",
      "See the caveats in the documentation: https://pandas.pydata.org/pandas-docs/stable/user_guide/indexing.html#returning-a-view-versus-a-copy\n",
      "  df1[\"total_m2\"] = df1[\"total_sqft\"]*0.092903\n",
      "/var/folders/pk/bg9zd87j5w10vzj3kf03_jy40000gn/T/ipykernel_40487/975822083.py:6: SettingWithCopyWarning: \n",
      "A value is trying to be set on a copy of a slice from a DataFrame.\n",
      "Try using .loc[row_indexer,col_indexer] = value instead\n",
      "\n",
      "See the caveats in the documentation: https://pandas.pydata.org/pandas-docs/stable/user_guide/indexing.html#returning-a-view-versus-a-copy\n",
      "  df1[\"price_per_m2\"] = df1[\"price_eur\"]*100000 / df1[\"total_m2\"]\n",
      "/var/folders/pk/bg9zd87j5w10vzj3kf03_jy40000gn/T/ipykernel_40487/975822083.py:7: SettingWithCopyWarning: \n",
      "A value is trying to be set on a copy of a slice from a DataFrame\n",
      "\n",
      "See the caveats in the documentation: https://pandas.pydata.org/pandas-docs/stable/user_guide/indexing.html#returning-a-view-versus-a-copy\n",
      "  df1.drop(\"total_sqft\", axis=1, inplace=True)\n",
      "/var/folders/pk/bg9zd87j5w10vzj3kf03_jy40000gn/T/ipykernel_40487/975822083.py:8: SettingWithCopyWarning: \n",
      "A value is trying to be set on a copy of a slice from a DataFrame.\n",
      "Try using .loc[row_indexer,col_indexer] = value instead\n",
      "\n",
      "See the caveats in the documentation: https://pandas.pydata.org/pandas-docs/stable/user_guide/indexing.html#returning-a-view-versus-a-copy\n",
      "  df1.loc[:, \"price_eur\"] = df1[\"price_eur\"]*100000\n"
     ]
    }
   ],
   "source": [
    "df1[\"location\"] = df1[\"location\"].apply(lambda x: x.strip()) # we remove white spaces from beginnings and ends of locations\n",
    "location_count = df1.groupby(\"location\")[\"location\"].agg(\"count\").sort_values(ascending=False)\n",
    "location_less50 = location_count[location_count<50]\n",
    "df1[\"location\"] = df1[\"location\"].apply(lambda x: \"other\" if x in location_less50 else x)\n",
    "df1[\"total_m2\"] = df1[\"total_sqft\"]*0.092903\n",
    "df1[\"price_per_m2\"] = df1[\"price_eur\"]*100000 / df1[\"total_m2\"]\n",
    "df1.drop(\"total_sqft\", axis=1, inplace=True)\n",
    "df1.loc[:, \"price_eur\"] = df1[\"price_eur\"]*100000"
   ]
  },
  {
   "cell_type": "markdown",
   "id": "76d5b4a2-331f-43cf-a0ec-19226bc3142a",
   "metadata": {},
   "source": [
    "## Outliers detection"
   ]
  },
  {
   "cell_type": "code",
   "execution_count": 140,
   "id": "895e57a3-6e4d-481e-a2aa-e66633e6a111",
   "metadata": {},
   "outputs": [
    {
     "data": {
      "text/html": [
       "<div>\n",
       "<style scoped>\n",
       "    .dataframe tbody tr th:only-of-type {\n",
       "        vertical-align: middle;\n",
       "    }\n",
       "\n",
       "    .dataframe tbody tr th {\n",
       "        vertical-align: top;\n",
       "    }\n",
       "\n",
       "    .dataframe thead th {\n",
       "        text-align: right;\n",
       "    }\n",
       "</style>\n",
       "<table border=\"1\" class=\"dataframe\">\n",
       "  <thead>\n",
       "    <tr style=\"text-align: right;\">\n",
       "      <th></th>\n",
       "      <th>availability</th>\n",
       "      <th>location</th>\n",
       "      <th>bath</th>\n",
       "      <th>balcony</th>\n",
       "      <th>price_eur</th>\n",
       "      <th>bedroom_num</th>\n",
       "      <th>total_m2</th>\n",
       "      <th>price_per_m2</th>\n",
       "    </tr>\n",
       "  </thead>\n",
       "  <tbody>\n",
       "    <tr>\n",
       "      <th>45</th>\n",
       "      <td>1</td>\n",
       "      <td>HSR Layout</td>\n",
       "      <td>9.0</td>\n",
       "      <td>1.584376</td>\n",
       "      <td>220000.0</td>\n",
       "      <td>8.0</td>\n",
       "      <td>55.741800</td>\n",
       "      <td>3946.768852</td>\n",
       "    </tr>\n",
       "    <tr>\n",
       "      <th>349</th>\n",
       "      <td>0</td>\n",
       "      <td>other</td>\n",
       "      <td>3.0</td>\n",
       "      <td>2.000000</td>\n",
       "      <td>81400.0</td>\n",
       "      <td>3.0</td>\n",
       "      <td>1.021933</td>\n",
       "      <td>79652.971379</td>\n",
       "    </tr>\n",
       "    <tr>\n",
       "      <th>482</th>\n",
       "      <td>1</td>\n",
       "      <td>other</td>\n",
       "      <td>3.0</td>\n",
       "      <td>2.000000</td>\n",
       "      <td>71500.0</td>\n",
       "      <td>5.0</td>\n",
       "      <td>46.451500</td>\n",
       "      <td>1539.239852</td>\n",
       "    </tr>\n",
       "    <tr>\n",
       "      <th>770</th>\n",
       "      <td>1</td>\n",
       "      <td>other</td>\n",
       "      <td>9.0</td>\n",
       "      <td>3.000000</td>\n",
       "      <td>209000.0</td>\n",
       "      <td>9.0</td>\n",
       "      <td>55.741800</td>\n",
       "      <td>3749.430409</td>\n",
       "    </tr>\n",
       "    <tr>\n",
       "      <th>789</th>\n",
       "      <td>1</td>\n",
       "      <td>other</td>\n",
       "      <td>4.0</td>\n",
       "      <td>3.000000</td>\n",
       "      <td>71500.0</td>\n",
       "      <td>6.0</td>\n",
       "      <td>55.741800</td>\n",
       "      <td>1282.699877</td>\n",
       "    </tr>\n",
       "    <tr>\n",
       "      <th>...</th>\n",
       "      <td>...</td>\n",
       "      <td>...</td>\n",
       "      <td>...</td>\n",
       "      <td>...</td>\n",
       "      <td>...</td>\n",
       "      <td>...</td>\n",
       "      <td>...</td>\n",
       "      <td>...</td>\n",
       "    </tr>\n",
       "    <tr>\n",
       "      <th>12011</th>\n",
       "      <td>1</td>\n",
       "      <td>other</td>\n",
       "      <td>8.0</td>\n",
       "      <td>1.584376</td>\n",
       "      <td>154000.0</td>\n",
       "      <td>8.0</td>\n",
       "      <td>74.322400</td>\n",
       "      <td>2072.053647</td>\n",
       "    </tr>\n",
       "    <tr>\n",
       "      <th>12067</th>\n",
       "      <td>1</td>\n",
       "      <td>other</td>\n",
       "      <td>5.0</td>\n",
       "      <td>1.000000</td>\n",
       "      <td>66000.0</td>\n",
       "      <td>8.0</td>\n",
       "      <td>71.721116</td>\n",
       "      <td>920.231080</td>\n",
       "    </tr>\n",
       "    <tr>\n",
       "      <th>12464</th>\n",
       "      <td>1</td>\n",
       "      <td>other</td>\n",
       "      <td>3.0</td>\n",
       "      <td>1.000000</td>\n",
       "      <td>49500.0</td>\n",
       "      <td>4.0</td>\n",
       "      <td>32.516050</td>\n",
       "      <td>1522.325129</td>\n",
       "    </tr>\n",
       "    <tr>\n",
       "      <th>12942</th>\n",
       "      <td>1</td>\n",
       "      <td>other</td>\n",
       "      <td>3.0</td>\n",
       "      <td>3.000000</td>\n",
       "      <td>85800.0</td>\n",
       "      <td>6.0</td>\n",
       "      <td>58.064375</td>\n",
       "      <td>1477.670258</td>\n",
       "    </tr>\n",
       "    <tr>\n",
       "      <th>13045</th>\n",
       "      <td>1</td>\n",
       "      <td>other</td>\n",
       "      <td>6.0</td>\n",
       "      <td>2.000000</td>\n",
       "      <td>71500.0</td>\n",
       "      <td>6.0</td>\n",
       "      <td>55.741800</td>\n",
       "      <td>1282.699877</td>\n",
       "    </tr>\n",
       "  </tbody>\n",
       "</table>\n",
       "<p>65 rows × 8 columns</p>\n",
       "</div>"
      ],
      "text/plain": [
       "       availability    location  bath   balcony  price_eur  bedroom_num  \\\n",
       "45                1  HSR Layout   9.0  1.584376   220000.0          8.0   \n",
       "349               0       other   3.0  2.000000    81400.0          3.0   \n",
       "482               1       other   3.0  2.000000    71500.0          5.0   \n",
       "770               1       other   9.0  3.000000   209000.0          9.0   \n",
       "789               1       other   4.0  3.000000    71500.0          6.0   \n",
       "...             ...         ...   ...       ...        ...          ...   \n",
       "12011             1       other   8.0  1.584376   154000.0          8.0   \n",
       "12067             1       other   5.0  1.000000    66000.0          8.0   \n",
       "12464             1       other   3.0  1.000000    49500.0          4.0   \n",
       "12942             1       other   3.0  3.000000    85800.0          6.0   \n",
       "13045             1       other   6.0  2.000000    71500.0          6.0   \n",
       "\n",
       "        total_m2  price_per_m2  \n",
       "45     55.741800   3946.768852  \n",
       "349     1.021933  79652.971379  \n",
       "482    46.451500   1539.239852  \n",
       "770    55.741800   3749.430409  \n",
       "789    55.741800   1282.699877  \n",
       "...          ...           ...  \n",
       "12011  74.322400   2072.053647  \n",
       "12067  71.721116    920.231080  \n",
       "12464  32.516050   1522.325129  \n",
       "12942  58.064375   1477.670258  \n",
       "13045  55.741800   1282.699877  \n",
       "\n",
       "[65 rows x 8 columns]"
      ]
     },
     "execution_count": 140,
     "metadata": {},
     "output_type": "execute_result"
    }
   ],
   "source": [
    "df1[df1[\"total_m2\"]/df1[\"bedroom_num\"]<10] # the following data points are data errors"
   ]
  },
  {
   "cell_type": "code",
   "execution_count": 141,
   "id": "45a2b2ee-5f15-45e4-9f22-79af48fb2ab4",
   "metadata": {},
   "outputs": [],
   "source": [
    "df1 = df1[~(df1.total_m2 / df1.bedroom_num<10)] # the data errors are removed"
   ]
  },
  {
   "cell_type": "code",
   "execution_count": 142,
   "id": "518a4e94-6211-4402-8706-77c5f13cceaf",
   "metadata": {},
   "outputs": [
    {
     "data": {
      "text/plain": [
       "count    13208.000000\n",
       "mean       786.565343\n",
       "std        530.590203\n",
       "min         31.711871\n",
       "25%        504.626608\n",
       "50%        641.349938\n",
       "75%        860.236983\n",
       "max      20894.658629\n",
       "Name: price_per_m2, dtype: float64"
      ]
     },
     "execution_count": 142,
     "metadata": {},
     "output_type": "execute_result"
    }
   ],
   "source": [
    "df1[\"price_per_m2\"].describe() # let's see the range of the price_per_m2"
   ]
  },
  {
   "cell_type": "markdown",
   "id": "8ff6e656-a904-47cd-b755-b938fb9bdeb6",
   "metadata": {},
   "source": [
    "***We can see that our column \"price_per_m2\" has outliers up to 20894.66 and down to 31.711. We want to remove them***"
   ]
  },
  {
   "cell_type": "code",
   "execution_count": 143,
   "id": "fa57410f-11c8-44a2-a205-8f96eea07db7",
   "metadata": {},
   "outputs": [
    {
     "data": {
      "image/png": "[encoded data removed]",
      "text/plain": [
       "<Figure size 1500x600 with 1 Axes>"
      ]
     },
     "metadata": {},
     "output_type": "display_data"
    }
   ],
   "source": [
    "fig, ax = plt.subplots(figsize=(15, 6))\n",
    "ax.boxplot(df1['price_per_m2'], sym='.', vert=False, whis=1.5, widths=0.5, patch_artist=True)\n",
    "ax.scatter(df1['price_per_m2'], np.random.normal(1, 0.04, size=len(df1['price_per_m2'])), alpha=0.5, color='black')\n",
    "ax.set_xticks(range(0, len(df1['price_per_m2']), 1000))\n",
    "ax.set_xlabel('Price per m2')\n",
    "ax.set_yticklabels('')\n",
    "plt.show()"
   ]
  },
  {
   "cell_type": "code",
   "execution_count": 144,
   "id": "4e2b1131-545f-4e39-8cfb-46493fa2dd90",
   "metadata": {},
   "outputs": [
    {
     "data": {
      "text/plain": [
       "(12444, 8)"
      ]
     },
     "execution_count": 144,
     "metadata": {},
     "output_type": "execute_result"
    }
   ],
   "source": [
    "q1 = df1['price_per_m2'].quantile(0.25) # define the first quartile\n",
    "q3 = df1['price_per_m2'].quantile(0.75) # define the third quartile\n",
    "iqr = q3 - q1 \n",
    "treshhold_low = q1 - iqr*0.5  # based on the boxplot I intuitively determine the low treshhold\n",
    "treshhold_high = q3 + iqr*3 # based on the boxplot I intuitively determine the high treshhold\n",
    "acceptable_values = (df1[\"price_per_m2\"]>= treshhold_low) & (df1[\"price_per_m2\"]<=treshhold_high) # we determine the acceptable\n",
    "                                                                                                  # which should be in our df\n",
    "df1 = df1[acceptable_values]\n",
    "df1.shape"
   ]
  },
  {
   "cell_type": "code",
   "execution_count": 145,
   "id": "c226297d-58f5-4ba7-8c13-44f515e0eac3",
   "metadata": {},
   "outputs": [
    {
     "data": {
      "text/plain": [
       "Text(0, 0.5, 'Counts')"
      ]
     },
     "execution_count": 145,
     "metadata": {},
     "output_type": "execute_result"
    },
    {
     "data": {
      "image/png": "[encoded data removed]",
      "text/plain": [
       "<Figure size 640x480 with 1 Axes>"
      ]
     },
     "metadata": {},
     "output_type": "display_data"
    }
   ],
   "source": [
    "plt.hist(df1.bath, rwidth=0.8)\n",
    "plt.xlabel(\"Number of Bathrooms\")\n",
    "plt.ylabel(\"Counts\")"
   ]
  },
  {
   "cell_type": "code",
   "execution_count": 146,
   "id": "b2aa04c4-4557-4439-bedf-4146bcac0fd3",
   "metadata": {},
   "outputs": [
    {
     "data": {
      "text/html": [
       "<div>\n",
       "<style scoped>\n",
       "    .dataframe tbody tr th:only-of-type {\n",
       "        vertical-align: middle;\n",
       "    }\n",
       "\n",
       "    .dataframe tbody tr th {\n",
       "        vertical-align: top;\n",
       "    }\n",
       "\n",
       "    .dataframe thead th {\n",
       "        text-align: right;\n",
       "    }\n",
       "</style>\n",
       "<table border=\"1\" class=\"dataframe\">\n",
       "  <thead>\n",
       "    <tr style=\"text-align: right;\">\n",
       "      <th></th>\n",
       "      <th>availability</th>\n",
       "      <th>location</th>\n",
       "      <th>bath</th>\n",
       "      <th>balcony</th>\n",
       "      <th>price_eur</th>\n",
       "      <th>bedroom_num</th>\n",
       "      <th>total_m2</th>\n",
       "      <th>price_per_m2</th>\n",
       "    </tr>\n",
       "  </thead>\n",
       "  <tbody>\n",
       "    <tr>\n",
       "      <th>1078</th>\n",
       "      <td>1</td>\n",
       "      <td>other</td>\n",
       "      <td>14.0</td>\n",
       "      <td>1.584376</td>\n",
       "      <td>550000.0</td>\n",
       "      <td>9.0</td>\n",
       "      <td>306.579900</td>\n",
       "      <td>1793.985842</td>\n",
       "    </tr>\n",
       "    <tr>\n",
       "      <th>1953</th>\n",
       "      <td>1</td>\n",
       "      <td>KR Puram</td>\n",
       "      <td>12.0</td>\n",
       "      <td>1.584376</td>\n",
       "      <td>121000.0</td>\n",
       "      <td>8.0</td>\n",
       "      <td>111.483600</td>\n",
       "      <td>1085.361434</td>\n",
       "    </tr>\n",
       "    <tr>\n",
       "      <th>1979</th>\n",
       "      <td>1</td>\n",
       "      <td>other</td>\n",
       "      <td>12.0</td>\n",
       "      <td>0.000000</td>\n",
       "      <td>132000.0</td>\n",
       "      <td>8.0</td>\n",
       "      <td>91.973970</td>\n",
       "      <td>1435.188673</td>\n",
       "    </tr>\n",
       "    <tr>\n",
       "      <th>2620</th>\n",
       "      <td>1</td>\n",
       "      <td>other</td>\n",
       "      <td>9.0</td>\n",
       "      <td>1.000000</td>\n",
       "      <td>1100000.0</td>\n",
       "      <td>6.0</td>\n",
       "      <td>1053.334214</td>\n",
       "      <td>1044.302924</td>\n",
       "    </tr>\n",
       "    <tr>\n",
       "      <th>7709</th>\n",
       "      <td>1</td>\n",
       "      <td>other</td>\n",
       "      <td>7.0</td>\n",
       "      <td>2.000000</td>\n",
       "      <td>88000.0</td>\n",
       "      <td>4.0</td>\n",
       "      <td>228.541380</td>\n",
       "      <td>385.050620</td>\n",
       "    </tr>\n",
       "    <tr>\n",
       "      <th>8106</th>\n",
       "      <td>1</td>\n",
       "      <td>other</td>\n",
       "      <td>12.0</td>\n",
       "      <td>1.584376</td>\n",
       "      <td>330000.0</td>\n",
       "      <td>8.0</td>\n",
       "      <td>171.870550</td>\n",
       "      <td>1920.049712</td>\n",
       "    </tr>\n",
       "    <tr>\n",
       "      <th>9990</th>\n",
       "      <td>1</td>\n",
       "      <td>other</td>\n",
       "      <td>9.0</td>\n",
       "      <td>3.000000</td>\n",
       "      <td>134200.0</td>\n",
       "      <td>6.0</td>\n",
       "      <td>111.483600</td>\n",
       "      <td>1203.764500</td>\n",
       "    </tr>\n",
       "    <tr>\n",
       "      <th>10695</th>\n",
       "      <td>0</td>\n",
       "      <td>Electronic City</td>\n",
       "      <td>13.0</td>\n",
       "      <td>1.584376</td>\n",
       "      <td>165000.0</td>\n",
       "      <td>9.0</td>\n",
       "      <td>111.483600</td>\n",
       "      <td>1480.038320</td>\n",
       "    </tr>\n",
       "    <tr>\n",
       "      <th>11366</th>\n",
       "      <td>1</td>\n",
       "      <td>other</td>\n",
       "      <td>8.0</td>\n",
       "      <td>1.584376</td>\n",
       "      <td>495000.0</td>\n",
       "      <td>4.0</td>\n",
       "      <td>650.321000</td>\n",
       "      <td>761.162564</td>\n",
       "    </tr>\n",
       "    <tr>\n",
       "      <th>11645</th>\n",
       "      <td>1</td>\n",
       "      <td>other</td>\n",
       "      <td>9.0</td>\n",
       "      <td>3.000000</td>\n",
       "      <td>253000.0</td>\n",
       "      <td>6.0</td>\n",
       "      <td>139.354500</td>\n",
       "      <td>1815.513672</td>\n",
       "    </tr>\n",
       "    <tr>\n",
       "      <th>12103</th>\n",
       "      <td>1</td>\n",
       "      <td>Thanisandra</td>\n",
       "      <td>6.0</td>\n",
       "      <td>2.000000</td>\n",
       "      <td>127600.0</td>\n",
       "      <td>3.0</td>\n",
       "      <td>167.782818</td>\n",
       "      <td>760.506955</td>\n",
       "    </tr>\n",
       "  </tbody>\n",
       "</table>\n",
       "</div>"
      ],
      "text/plain": [
       "       availability         location  bath   balcony  price_eur  bedroom_num  \\\n",
       "1078              1            other  14.0  1.584376   550000.0          9.0   \n",
       "1953              1         KR Puram  12.0  1.584376   121000.0          8.0   \n",
       "1979              1            other  12.0  0.000000   132000.0          8.0   \n",
       "2620              1            other   9.0  1.000000  1100000.0          6.0   \n",
       "7709              1            other   7.0  2.000000    88000.0          4.0   \n",
       "8106              1            other  12.0  1.584376   330000.0          8.0   \n",
       "9990              1            other   9.0  3.000000   134200.0          6.0   \n",
       "10695             0  Electronic City  13.0  1.584376   165000.0          9.0   \n",
       "11366             1            other   8.0  1.584376   495000.0          4.0   \n",
       "11645             1            other   9.0  3.000000   253000.0          6.0   \n",
       "12103             1      Thanisandra   6.0  2.000000   127600.0          3.0   \n",
       "\n",
       "          total_m2  price_per_m2  \n",
       "1078    306.579900   1793.985842  \n",
       "1953    111.483600   1085.361434  \n",
       "1979     91.973970   1435.188673  \n",
       "2620   1053.334214   1044.302924  \n",
       "7709    228.541380    385.050620  \n",
       "8106    171.870550   1920.049712  \n",
       "9990    111.483600   1203.764500  \n",
       "10695   111.483600   1480.038320  \n",
       "11366   650.321000    761.162564  \n",
       "11645   139.354500   1815.513672  \n",
       "12103   167.782818    760.506955  "
      ]
     },
     "execution_count": 146,
     "metadata": {},
     "output_type": "execute_result"
    }
   ],
   "source": [
    "df1[df1.bath>df1.bedroom_num+2] # let's see if there are real estate objects which have an unusually high amount of bathrooms"
   ]
  },
  {
   "cell_type": "code",
   "execution_count": 147,
   "id": "3d10a857-348f-44e6-a4fc-0a06b46d06f2",
   "metadata": {},
   "outputs": [],
   "source": [
    "df1 = df1[~(df1.bath>df1.bedroom_num+2)]\n",
    "df1.drop(\"price_per_m2\", axis=1, inplace=True) # drop those data errors"
   ]
  },
  {
   "cell_type": "markdown",
   "id": "3fa3533d-c934-4e83-a586-7d6a28d6192b",
   "metadata": {},
   "source": [
    "## One hot encoding"
   ]
  },
  {
   "cell_type": "code",
   "execution_count": 148,
   "id": "7d2139fb-e43a-43a2-ac03-ebdb5499b520",
   "metadata": {},
   "outputs": [],
   "source": [
    "one_hot_location = pd.get_dummies(df1.location)\n",
    "df1 = pd.concat([df1, one_hot_location.drop(\"other\", axis=1)], axis=1)\n",
    "df1.drop(\"location\", axis=1, inplace=True) # Now we have transformed our categorical variables to binary scale"
   ]
  },
  {
   "cell_type": "markdown",
   "id": "c41629cd-908b-4361-80d3-2660a6ff558f",
   "metadata": {},
   "source": [
    "## Machine Learning Model"
   ]
  },
  {
   "cell_type": "markdown",
   "id": "0762f825-7fca-4e43-a646-34e143c3a69f",
   "metadata": {},
   "source": [
    "***Let's first split the data into train and test***"
   ]
  },
  {
   "cell_type": "code",
   "execution_count": 149,
   "id": "803c0bb0-7353-4f30-a522-43e5f93f2749",
   "metadata": {},
   "outputs": [],
   "source": [
    "from sklearn.model_selection import train_test_split\n",
    "\n",
    "X = df1.drop(\"price_eur\", axis=1)\n",
    "y = df1[\"price_eur\"]\n",
    "\n",
    "X_train, X_test, y_train, y_test = train_test_split(X, y, test_size=0.2, random_state=7)\n"
   ]
  },
  {
   "cell_type": "markdown",
   "id": "86227553-c47a-4dcd-bd5f-33bdb9069888",
   "metadata": {},
   "source": [
    "## Linear Regression"
   ]
  },
  {
   "cell_type": "code",
   "execution_count": 150,
   "id": "31f307ba-6a85-4d92-a53c-c6c9e2e1cb53",
   "metadata": {},
   "outputs": [
    {
     "data": {
      "text/plain": [
       "0.7543657459110832"
      ]
     },
     "execution_count": 150,
     "metadata": {},
     "output_type": "execute_result"
    }
   ],
   "source": [
    "from sklearn.linear_model import LinearRegression\n",
    "from sklearn.metrics import r2_score\n",
    "lr = LinearRegression()\n",
    "lr.fit(X_train, y_train)\n",
    "\n",
    "y_pred = lr.predict(X_test)\n",
    "\n",
    "r2 = r2_score(y_test, y_pred)\n",
    "r2"
   ]
  },
  {
   "cell_type": "markdown",
   "id": "646ac86b-1798-4db9-bc7b-4d1275f0af11",
   "metadata": {},
   "source": [
    "## Cross-Validation"
   ]
  },
  {
   "cell_type": "code",
   "execution_count": 151,
   "id": "bb9536ff-a55e-405b-9fae-f34f27cbcf9c",
   "metadata": {},
   "outputs": [
    {
     "data": {
      "text/plain": [
       "array([0.77144785, 0.70525914, 0.72758642, 0.68958296, 0.79209367])"
      ]
     },
     "execution_count": 151,
     "metadata": {},
     "output_type": "execute_result"
    }
   ],
   "source": [
    "from sklearn.model_selection import ShuffleSplit\n",
    "from sklearn.model_selection import cross_val_score\n",
    "\n",
    "cv = ShuffleSplit(n_splits=5, test_size=0.2, random_state=777)\n",
    "cross_val_score(lr, X, y, cv=cv)"
   ]
  },
  {
   "cell_type": "markdown",
   "id": "cadd4ba3-e0a2-4de9-a7cf-eec24a4ecee3",
   "metadata": {},
   "source": [
    "## Let's define the function for the model"
   ]
  },
  {
   "cell_type": "code",
   "execution_count": 152,
   "id": "63e10026-a5e7-4f84-b84f-982270cdb1e2",
   "metadata": {},
   "outputs": [],
   "source": [
    "def predict_price(availability, bath, balcony, bedroom_num, total_m2, location):\n",
    "    \n",
    "    loc_index = np.where(X.columns==location)[0][0] # I am doing this because this categorical variable has been transformed with the help of one hot encoding to binary columns\n",
    "    \n",
    "    x = np.zeros(len(X.columns)) # create an array with empty values\n",
    "    x[0] = availability # fill the empty array\n",
    "    x[1] = bath\n",
    "    x[2] = balcony\n",
    "    x[3] = bedroom_num\n",
    "    x[4] = total_m2\n",
    "    if loc_index>= 0:\n",
    "        x[loc_index] = 1\n",
    "        \n",
    "    return print(\"The Estimated Price of the Property is:\", lr.predict([x])[0])\n"
   ]
  },
  {
   "cell_type": "markdown",
   "id": "31b1184a-be2d-44e9-9128-59bf0c7ee061",
   "metadata": {},
   "source": [
    "## The function is ready to predict"
   ]
  },
  {
   "cell_type": "code",
   "execution_count": 155,
   "id": "9f9a6b5c-0484-4f7b-92b8-f20a6e1a7bca",
   "metadata": {},
   "outputs": [
    {
     "name": "stdout",
     "output_type": "stream",
     "text": [
      "The Estimated Price of the Property is: 105570.03628759105\n"
     ]
    },
    {
     "name": "stderr",
     "output_type": "stream",
     "text": [
      "/Users/germangnetov/opt/anaconda3/lib/python3.9/site-packages/sklearn/base.py:450: UserWarning: X does not have valid feature names, but LinearRegression was fitted with feature names\n",
      "  warnings.warn(\n"
     ]
    }
   ],
   "source": [
    "predict_price(1, 3, 1, 4, 132, \"7th Phase JP Nagar\")"
   ]
  }
 ],
 "metadata": {
  "kernelspec": {
   "display_name": "Python 3 (ipykernel)",
   "language": "python",
   "name": "python3"
  },
  "language_info": {
   "codemirror_mode": {
    "name": "ipython",
    "version": 3
   },
   "file_extension": ".py",
   "mimetype": "text/x-python",
   "name": "python",
   "nbconvert_exporter": "python",
   "pygments_lexer": "ipython3",
   "version": "3.9.13"
  }
 },
 "nbformat": 4,
 "nbformat_minor": 5
}
